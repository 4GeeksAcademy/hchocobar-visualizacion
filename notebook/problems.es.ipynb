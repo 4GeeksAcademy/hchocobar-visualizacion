{
 "cells": [
  {
   "cell_type": "markdown",
   "metadata": {},
   "source": [
    "# Ejercicios de Visualización con Matplotlib y Seaborn\n",
    "\n",
    "La visualización de datos es una de las herramientas más importantes en el análisis de datos y la ciencia de datos. No solo nos permite explorar y entender mejor los datos, sino que también nos ayuda a comunicar hallazgos de manera efectiva. A través de gráficos, podemos detectar patrones, relaciones y anomalías que serían difíciles de identificar solo con números o tablas."
   ]
  },
  {
   "cell_type": "code",
   "execution_count": 1,
   "metadata": {},
   "outputs": [],
   "source": [
    "# Importar librerías necesarias\n",
    "import matplotlib.pyplot as plt\n",
    "import seaborn as sns\n",
    "import pandas as pd\n",
    "import numpy as np"
   ]
  },
  {
   "cell_type": "markdown",
   "metadata": {},
   "source": [
    "## Ejercicio 1 - Gráfico de líneas simple\n",
    "\n",
    "Supongamos que, en tu oficina, te toma 10 segundos recorrer 25 metros caminando tranquilamente hacia la máquina de café. Si queremos expresar esta situación como una función lineal de la distancia respecto al tiempo, usamos la fórmula:\n",
    "\n",
    "$\n",
    "\\text{distancia} = \\text{velocidad} \\times \\text{tiempo}\n",
    "$\n",
    "\n",
    "\n",
    "\n",
    "Dado que la velocidad es constante, esta representa la pendiente de la función y se puede interpretar como la primera derivada de la distancia con respecto al tiempo. Es decir, nos indica qué tan rápido cambia la distancia mientras pasa el tiempo.\n",
    "\n",
    "- **Calcula la velocidad constante a la que caminas:** Sabemos que recorriste 25 metros en 10 segundos. ¿Cuál es la velocidad (en metros/segundo)?\n",
    "- **Construye la función lineal que describe cómo cambia la distancia con el tiempo:** Usa la fórmula `distancia = velocidad × tiempo` para calcular la distancia recorrida en cada segundo desde 0 a 10.\n",
    "- **Usa Matplotlib para graficar cómo cambia la distancia con el tiempo:** Agrega etiquetas a los ejes y un título al gráfico."
   ]
  },
  {
   "cell_type": "code",
   "execution_count": 2,
   "metadata": {},
   "outputs": [
    {
     "data": {
      "text/plain": [
       "array([ 0,  1,  2,  3,  4,  5,  6,  7,  8,  9, 10])"
      ]
     },
     "execution_count": 2,
     "metadata": {},
     "output_type": "execute_result"
    }
   ],
   "source": [
    "x = np.arange(0, 11) # array con valores de 0 a 10\n",
    "\n",
    "x"
   ]
  },
  {
   "cell_type": "markdown",
   "id": "6f4cc545",
   "metadata": {},
   "source": [
    "### ¿Qué crees que pasaría con la gráfica si caminaras más rápido o más lento? ¿Cómo cambiaría la pendiente? Prueba modificar la velocidad a 3 m/s y vuelve a graficar."
   ]
  },
  {
   "cell_type": "code",
   "execution_count": null,
   "id": "af612113",
   "metadata": {},
   "outputs": [],
   "source": [
    "x = np.arange(0, 11) # array con valores de 0 a 10\n",
    "velocity = 3\n",
    "y = velocity * x\n",
    "\n",
    "#tu código"
   ]
  },
  {
   "cell_type": "markdown",
   "metadata": {},
   "source": [
    "## Ejercicio 2 - Representar visualmente datos categóricos.\n",
    "\n",
    "Imagina que estás analizando cuántos estudiantes están matriculados en distintas carreras dentro de una universidad. Estos datos, que representan **categorías** (las carreras), son ideales para visualizar usando un **gráfico de barras**.\n",
    "\n",
    "A continuación, se presenta un pequeño conjunto de datos con la cantidad de estudiantes por carrera."
   ]
  },
  {
   "cell_type": "code",
   "execution_count": 7,
   "id": "4a5aa110",
   "metadata": {},
   "outputs": [
    {
     "data": {
      "text/html": [
       "<div>\n",
       "<style scoped>\n",
       "    .dataframe tbody tr th:only-of-type {\n",
       "        vertical-align: middle;\n",
       "    }\n",
       "\n",
       "    .dataframe tbody tr th {\n",
       "        vertical-align: top;\n",
       "    }\n",
       "\n",
       "    .dataframe thead th {\n",
       "        text-align: right;\n",
       "    }\n",
       "</style>\n",
       "<table border=\"1\" class=\"dataframe\">\n",
       "  <thead>\n",
       "    <tr style=\"text-align: right;\">\n",
       "      <th></th>\n",
       "      <th>Carrera</th>\n",
       "      <th>Estudiantes</th>\n",
       "    </tr>\n",
       "  </thead>\n",
       "  <tbody>\n",
       "    <tr>\n",
       "      <th>0</th>\n",
       "      <td>Ingeniería</td>\n",
       "      <td>120</td>\n",
       "    </tr>\n",
       "    <tr>\n",
       "      <th>1</th>\n",
       "      <td>Medicina</td>\n",
       "      <td>80</td>\n",
       "    </tr>\n",
       "    <tr>\n",
       "      <th>2</th>\n",
       "      <td>Derecho</td>\n",
       "      <td>60</td>\n",
       "    </tr>\n",
       "    <tr>\n",
       "      <th>3</th>\n",
       "      <td>Psicología</td>\n",
       "      <td>100</td>\n",
       "    </tr>\n",
       "  </tbody>\n",
       "</table>\n",
       "</div>"
      ],
      "text/plain": [
       "      Carrera  Estudiantes\n",
       "0  Ingeniería          120\n",
       "1    Medicina           80\n",
       "2     Derecho           60\n",
       "3  Psicología          100"
      ]
     },
     "execution_count": 7,
     "metadata": {},
     "output_type": "execute_result"
    }
   ],
   "source": [
    "df_carreras = pd.DataFrame({\n",
    "    'Carrera': ['Ingeniería', 'Medicina', 'Derecho', 'Psicología'],\n",
    "    'Estudiantes': [120, 80, 60, 100]\n",
    "})\n",
    "\n",
    "df_carreras"
   ]
  },
  {
   "cell_type": "markdown",
   "id": "989958c0",
   "metadata": {},
   "source": [
    "1. Representa gráficamente cuántos estudiantes hay en cada carrera y utiliza un gráfico de barras vertical con Matplotlib. \n",
    "2. Etiqueta los ejes correctamente y agrega un título descriptivo.\n",
    "3. Usa un color que ayude a destacar las diferencias entre categorías.\n",
    "\n"
   ]
  },
  {
   "cell_type": "code",
   "execution_count": null,
   "id": "bb3a07cf",
   "metadata": {},
   "outputs": [],
   "source": [
    "# tu codigo"
   ]
  },
  {
   "cell_type": "markdown",
   "id": "dce10461",
   "metadata": {},
   "source": [
    "### ¿Qué pasaría si usás un gráfico de barras **horizontal**? ¿Te resulta más legible? Intenta hacerlo"
   ]
  },
  {
   "cell_type": "code",
   "execution_count": null,
   "id": "0fd70161",
   "metadata": {},
   "outputs": [],
   "source": [
    "# tu código"
   ]
  },
  {
   "cell_type": "markdown",
   "metadata": {},
   "source": [
    "## Ejercicio 3: Visualizar proporciones con un gráfico circular.\n",
    "\n",
    "Supongamos que deseas entender cómo se distribuyen los estudiantes entre distintas carreras en una universidad. Aunque ya representaste estos datos con un gráfico de barras, ahora quieres ver **qué porcentaje del total representa cada carrera**.\n",
    "\n",
    "Una forma muy común de representar proporciones es usando un **gráfico de pastel (pie chart)**, ya que permite tener una visión rápida e intuitiva de cómo se divide el todo.\n",
    "\n",
    "\n",
    "- Representa los datos de `df_carreras` como un gráfico de pastel.\n",
    "- Muestra el **porcentaje** que representa cada carrera sobre el total.\n",
    "- Agrega un **título descriptivo** que explique qué se está visualizando."
   ]
  },
  {
   "cell_type": "code",
   "execution_count": null,
   "metadata": {},
   "outputs": [],
   "source": [
    "df_carreras\n",
    "\n",
    "# tu código"
   ]
  },
  {
   "cell_type": "markdown",
   "metadata": {},
   "source": [
    "## Ejercicio 4 - Explorar la relación entre dos variables numéricas creando un gráfico de dispersión con Seaborn\n",
    "\n",
    "Imagina que estás analizando las características de distintas especies de flores. Cada flor tiene varias medidas:\n",
    "\n",
    "- Largo del sépalo\n",
    "- Ancho del sépalo\n",
    "- Largo del pétalo\n",
    "- Ancho del pétalo\n",
    "- Especie a la que pertenece\n",
    "\n",
    "Una excelente forma de **visualizar la relación entre dos variables numéricas** es mediante un **gráfico de dispersión** (`scatter plot`).\n",
    "\n",
    "En este caso, vamos a explorar si existe una relación entre el `largo` y el `ancho` del sépalo, y si esta varía según la especie de la flor.\n"
   ]
  },
  {
   "cell_type": "code",
   "execution_count": null,
   "id": "a7314de4",
   "metadata": {},
   "outputs": [
    {
     "data": {
      "text/html": [
       "<div>\n",
       "<style scoped>\n",
       "    .dataframe tbody tr th:only-of-type {\n",
       "        vertical-align: middle;\n",
       "    }\n",
       "\n",
       "    .dataframe tbody tr th {\n",
       "        vertical-align: top;\n",
       "    }\n",
       "\n",
       "    .dataframe thead th {\n",
       "        text-align: right;\n",
       "    }\n",
       "</style>\n",
       "<table border=\"1\" class=\"dataframe\">\n",
       "  <thead>\n",
       "    <tr style=\"text-align: right;\">\n",
       "      <th></th>\n",
       "      <th>sepal_length</th>\n",
       "      <th>sepal_width</th>\n",
       "      <th>petal_length</th>\n",
       "      <th>petal_width</th>\n",
       "      <th>species</th>\n",
       "    </tr>\n",
       "  </thead>\n",
       "  <tbody>\n",
       "    <tr>\n",
       "      <th>0</th>\n",
       "      <td>5.427977</td>\n",
       "      <td>2.592535</td>\n",
       "      <td>4.110055</td>\n",
       "      <td>0.401079</td>\n",
       "      <td>virginica</td>\n",
       "    </tr>\n",
       "    <tr>\n",
       "      <th>1</th>\n",
       "      <td>6.037850</td>\n",
       "      <td>2.981556</td>\n",
       "      <td>4.255947</td>\n",
       "      <td>2.188817</td>\n",
       "      <td>virginica</td>\n",
       "    </tr>\n",
       "    <tr>\n",
       "      <th>2</th>\n",
       "      <td>6.067027</td>\n",
       "      <td>3.083395</td>\n",
       "      <td>5.526960</td>\n",
       "      <td>0.266137</td>\n",
       "      <td>setosa</td>\n",
       "    </tr>\n",
       "    <tr>\n",
       "      <th>3</th>\n",
       "      <td>5.507228</td>\n",
       "      <td>3.019103</td>\n",
       "      <td>2.312227</td>\n",
       "      <td>2.172208</td>\n",
       "      <td>versicolor</td>\n",
       "    </tr>\n",
       "    <tr>\n",
       "      <th>4</th>\n",
       "      <td>6.077949</td>\n",
       "      <td>2.808020</td>\n",
       "      <td>4.346532</td>\n",
       "      <td>1.195164</td>\n",
       "      <td>versicolor</td>\n",
       "    </tr>\n",
       "    <tr>\n",
       "      <th>...</th>\n",
       "      <td>...</td>\n",
       "      <td>...</td>\n",
       "      <td>...</td>\n",
       "      <td>...</td>\n",
       "      <td>...</td>\n",
       "    </tr>\n",
       "    <tr>\n",
       "      <th>145</th>\n",
       "      <td>5.766483</td>\n",
       "      <td>3.049927</td>\n",
       "      <td>3.464921</td>\n",
       "      <td>1.416143</td>\n",
       "      <td>virginica</td>\n",
       "    </tr>\n",
       "    <tr>\n",
       "      <th>146</th>\n",
       "      <td>5.279948</td>\n",
       "      <td>3.626748</td>\n",
       "      <td>3.505765</td>\n",
       "      <td>0.909237</td>\n",
       "      <td>setosa</td>\n",
       "    </tr>\n",
       "    <tr>\n",
       "      <th>147</th>\n",
       "      <td>6.388502</td>\n",
       "      <td>3.108233</td>\n",
       "      <td>6.574745</td>\n",
       "      <td>0.507614</td>\n",
       "      <td>versicolor</td>\n",
       "    </tr>\n",
       "    <tr>\n",
       "      <th>148</th>\n",
       "      <td>5.087782</td>\n",
       "      <td>2.985601</td>\n",
       "      <td>5.931231</td>\n",
       "      <td>0.486496</td>\n",
       "      <td>virginica</td>\n",
       "    </tr>\n",
       "    <tr>\n",
       "      <th>149</th>\n",
       "      <td>6.141146</td>\n",
       "      <td>3.556389</td>\n",
       "      <td>3.826396</td>\n",
       "      <td>0.011976</td>\n",
       "      <td>setosa</td>\n",
       "    </tr>\n",
       "  </tbody>\n",
       "</table>\n",
       "<p>150 rows × 5 columns</p>\n",
       "</div>"
      ],
      "text/plain": [
       "     sepal_length  sepal_width  petal_length  petal_width     species\n",
       "0        5.427977     2.592535      4.110055     0.401079   virginica\n",
       "1        6.037850     2.981556      4.255947     2.188817   virginica\n",
       "2        6.067027     3.083395      5.526960     0.266137      setosa\n",
       "3        5.507228     3.019103      2.312227     2.172208  versicolor\n",
       "4        6.077949     2.808020      4.346532     1.195164  versicolor\n",
       "..            ...          ...           ...          ...         ...\n",
       "145      5.766483     3.049927      3.464921     1.416143   virginica\n",
       "146      5.279948     3.626748      3.505765     0.909237      setosa\n",
       "147      6.388502     3.108233      6.574745     0.507614  versicolor\n",
       "148      5.087782     2.985601      5.931231     0.486496   virginica\n",
       "149      6.141146     3.556389      3.826396     0.011976      setosa\n",
       "\n",
       "[150 rows x 5 columns]"
      ]
     },
     "execution_count": 4,
     "metadata": {},
     "output_type": "execute_result"
    }
   ],
   "source": [
    "df_iris = pd.DataFrame({ # DataFrame con datos aleatorios\n",
    "    'sepal_length': np.random.normal(5.8, 0.4, 150),\n",
    "    'sepal_width': np.random.normal(3.0, 0.3, 150),\n",
    "    'petal_length': np.random.normal(3.7, 1.5, 150),\n",
    "    'petal_width': np.random.normal(1.2, 0.8, 150),\n",
    "    'species': np.random.choice(['setosa', 'versicolor', 'virginica'], 150)\n",
    "})\n",
    "\n",
    "df_iris # Mostrar DataFrame\n"
   ]
  },
  {
   "cell_type": "markdown",
   "id": "ce2ee3c3",
   "metadata": {},
   "source": [
    "1. Crea un gráfico de dispersión con `sepal_length` en el eje X y `sepal_width` en el eje Y.\n",
    "2. Usa el argumento `hue` para diferenciar las especies de flores.\n",
    "3. Agrega un título descriptivo.\n",
    "4. Ajusta el tamaño de los puntos o la paleta de colores para que el gráfico sea más claro. **(Opcional)**"
   ]
  },
  {
   "cell_type": "code",
   "execution_count": 11,
   "metadata": {},
   "outputs": [],
   "source": [
    "# tu código"
   ]
  },
  {
   "cell_type": "markdown",
   "id": "9b181243",
   "metadata": {},
   "source": [
    "## Ejercicio 5 - Visualización de distribuciones con histogramas\n",
    "\n",
    "En muchos casos, no solo nos interesa el valor de una variable, sino **cómo se distribuyen** esos valores.\n",
    "\n",
    "Los histogramas son una herramienta visual muy útil para:\n",
    "\n",
    "- Ver si los datos están **centrados** o dispersos.\n",
    "- Detectar **asimetrías** (por ejemplo, si hay más valores bajos o altos).\n",
    "- Identificar posibles **valores atípicos** (*outliers*).\n",
    "- Observar la **forma general** de la distribución (normal, sesgada, bimodal, etc.).\n",
    "\n",
    "Vamos a explorar cómo se distribuye el **largo del pétalo** (`petal_length`) en un conjunto de datos de flores."
   ]
  },
  {
   "cell_type": "code",
   "execution_count": 5,
   "id": "20359165",
   "metadata": {},
   "outputs": [
    {
     "data": {
      "text/html": [
       "<div>\n",
       "<style scoped>\n",
       "    .dataframe tbody tr th:only-of-type {\n",
       "        vertical-align: middle;\n",
       "    }\n",
       "\n",
       "    .dataframe tbody tr th {\n",
       "        vertical-align: top;\n",
       "    }\n",
       "\n",
       "    .dataframe thead th {\n",
       "        text-align: right;\n",
       "    }\n",
       "</style>\n",
       "<table border=\"1\" class=\"dataframe\">\n",
       "  <thead>\n",
       "    <tr style=\"text-align: right;\">\n",
       "      <th></th>\n",
       "      <th>sepal_length</th>\n",
       "      <th>sepal_width</th>\n",
       "      <th>petal_length</th>\n",
       "      <th>petal_width</th>\n",
       "      <th>species</th>\n",
       "    </tr>\n",
       "  </thead>\n",
       "  <tbody>\n",
       "    <tr>\n",
       "      <th>0</th>\n",
       "      <td>5.427977</td>\n",
       "      <td>2.592535</td>\n",
       "      <td>4.110055</td>\n",
       "      <td>0.401079</td>\n",
       "      <td>virginica</td>\n",
       "    </tr>\n",
       "    <tr>\n",
       "      <th>1</th>\n",
       "      <td>6.037850</td>\n",
       "      <td>2.981556</td>\n",
       "      <td>4.255947</td>\n",
       "      <td>2.188817</td>\n",
       "      <td>virginica</td>\n",
       "    </tr>\n",
       "    <tr>\n",
       "      <th>2</th>\n",
       "      <td>6.067027</td>\n",
       "      <td>3.083395</td>\n",
       "      <td>5.526960</td>\n",
       "      <td>0.266137</td>\n",
       "      <td>setosa</td>\n",
       "    </tr>\n",
       "    <tr>\n",
       "      <th>3</th>\n",
       "      <td>5.507228</td>\n",
       "      <td>3.019103</td>\n",
       "      <td>2.312227</td>\n",
       "      <td>2.172208</td>\n",
       "      <td>versicolor</td>\n",
       "    </tr>\n",
       "    <tr>\n",
       "      <th>4</th>\n",
       "      <td>6.077949</td>\n",
       "      <td>2.808020</td>\n",
       "      <td>4.346532</td>\n",
       "      <td>1.195164</td>\n",
       "      <td>versicolor</td>\n",
       "    </tr>\n",
       "  </tbody>\n",
       "</table>\n",
       "</div>"
      ],
      "text/plain": [
       "   sepal_length  sepal_width  petal_length  petal_width     species\n",
       "0      5.427977     2.592535      4.110055     0.401079   virginica\n",
       "1      6.037850     2.981556      4.255947     2.188817   virginica\n",
       "2      6.067027     3.083395      5.526960     0.266137      setosa\n",
       "3      5.507228     3.019103      2.312227     2.172208  versicolor\n",
       "4      6.077949     2.808020      4.346532     1.195164  versicolor"
      ]
     },
     "execution_count": 5,
     "metadata": {},
     "output_type": "execute_result"
    }
   ],
   "source": [
    "df_iris.head() # Mostrar DataFrame"
   ]
  },
  {
   "cell_type": "markdown",
   "id": "6b47718c",
   "metadata": {},
   "source": [
    "1. Crea un **histograma con `Seaborn`** para visualizar la distribución del largo del pétalo (`petal_length`).\n",
    "2. Ajusta el número de *bins* para tener mayor o menor nivel de detalle.\n",
    "3. Agrega título, etiquetas y un estilo visual claro."
   ]
  },
  {
   "cell_type": "code",
   "execution_count": null,
   "id": "f00b19fc",
   "metadata": {},
   "outputs": [],
   "source": [
    "# tu código"
   ]
  },
  {
   "cell_type": "markdown",
   "id": "0f22b0b7",
   "metadata": {},
   "source": [
    "## Comparación por especie (distribuciones múltiples)\n",
    "\n",
    "Ahora, compara la distribución del largo del pétalo para cada especie de flor usando `Seaborn` y el argumento `hue`.\n",
    "\n",
    "Esto te permitirá analizar si hay **diferencias significativas** entre los grupos."
   ]
  },
  {
   "cell_type": "code",
   "execution_count": null,
   "id": "7c2c9d3f",
   "metadata": {},
   "outputs": [],
   "source": [
    "# tu código"
   ]
  },
  {
   "cell_type": "markdown",
   "id": "7e09ceca",
   "metadata": {},
   "source": [
    "## Ejercicio 6 - Visualización de relaciones con mapas de calor (heatmap)\n",
    "\n",
    "En ciencia de datos es importante comprender cómo se relacionan las variables entre sí. Una forma visual de hacerlo es usando mapas de calor, especialmente sobre matrices de correlación.\n",
    "\n",
    "En este ejercicio vamos a visualizar cómo se relacionan las variables numéricas del conjunto `df_iris`.\n",
    "\n",
    "\n",
    "\n",
    "1. Crea un mapa de calor que muestre la correlación entre las variables numéricas del DataFrame `df_iris`.Primero necesitas calcular la matriz de correlación usando `.corr()`.\n",
    "2. Usa la librería **seaborn** para graficar el heatmap.\n",
    "3. Activa la visualización de los valores dentro del gráfico `(annot=True)`."
   ]
  },
  {
   "cell_type": "code",
   "execution_count": null,
   "id": "af1d0df3",
   "metadata": {},
   "outputs": [],
   "source": [
    "df_iris\n",
    "\n",
    "# tu código"
   ]
  },
  {
   "cell_type": "markdown",
   "id": "0081b7d0",
   "metadata": {},
   "source": [
    "## Ejercicio 7 - Visualización de la distribución por categorías con boxplot\n",
    "\n",
    "El boxplot (o diagrama de caja) permite comparar cómo se distribuye una variable numérica según distintas categorías.\n",
    "\n",
    "Vamos a comparar la distribución del largo del pétalo (petal_length) entre las distintas especies de flores del conjunto `df_iris`. La idea es que grafiques un boxplot que compare el largo del pétalo (`petal_length`) entre las diferentes especies (species).\n",
    "\n",
    "\n",
    "1. Usa `seaborn.boxplot()` indicando el eje `x` con la especie y `y` con el largo del pétalo.\n",
    "2. Es recomendable usar plt.figure() para ajustar el tamaño del gráfico si es necesario."
   ]
  },
  {
   "cell_type": "code",
   "execution_count": null,
   "id": "248e40f2",
   "metadata": {},
   "outputs": [],
   "source": [
    "# tu código"
   ]
  }
 ],
 "metadata": {
  "kernelspec": {
   "display_name": "Python 3",
   "language": "python",
   "name": "python3"
  },
  "language_info": {
   "codemirror_mode": {
    "name": "ipython",
    "version": 3
   },
   "file_extension": ".py",
   "mimetype": "text/x-python",
   "name": "python",
   "nbconvert_exporter": "python",
   "pygments_lexer": "ipython3",
   "version": "3.11.4"
  }
 },
 "nbformat": 4,
 "nbformat_minor": 5
}
